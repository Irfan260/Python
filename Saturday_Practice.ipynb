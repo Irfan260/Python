{
 "cells": [
  {
   "cell_type": "code",
   "execution_count": 7,
   "id": "6e2e404e",
   "metadata": {},
   "outputs": [
    {
     "name": "stdout",
     "output_type": "stream",
     "text": [
      "Enter 1st Number:200\n",
      "Enter 2nd Number:200\n",
      "Addition of 1st Number = 200 and 2nd Number = 200 is : 400\n"
     ]
    }
   ],
   "source": [
    "a = int(input(\"Enter 1st Number:\"))\n",
    "b = int(input(\"Enter 2nd Number:\"))\n",
    "\n",
    "c = a+b\n",
    "\n",
    "print (\"Addition of 1st Number =\",a,\"and 2nd Number =\",b,\"is :\",c)"
   ]
  },
  {
   "cell_type": "code",
   "execution_count": 8,
   "id": "06089b2b",
   "metadata": {},
   "outputs": [
    {
     "data": {
      "text/plain": [
       "[10, 20, 30, 40, 50, 60, 70, 80, 90, 100]"
      ]
     },
     "execution_count": 8,
     "metadata": {},
     "output_type": "execute_result"
    }
   ],
   "source": [
    "l = [10,20,30,40,50,60,70,80,90,100]\n",
    "l"
   ]
  },
  {
   "cell_type": "code",
   "execution_count": 26,
   "id": "387ba03e",
   "metadata": {},
   "outputs": [
    {
     "name": "stdout",
     "output_type": "stream",
     "text": [
      "10\n",
      "80\n",
      "30\n",
      "100\n",
      "10\n",
      "[10, 'Changed', 30, 40, 50, 60, 70, 80, 90, 100]\n"
     ]
    }
   ],
   "source": [
    "print(l[0])\n",
    "print(l[7])\n",
    "print(l[2])\n",
    "print(l[-1])\n",
    "print(l[-10])\n",
    "\n",
    "l[4:7]\n",
    "\n",
    "l[1] = \"Changed\"\n",
    "print(l)"
   ]
  },
  {
   "cell_type": "code",
   "execution_count": 27,
   "id": "2b38c57a",
   "metadata": {},
   "outputs": [
    {
     "data": {
      "text/plain": [
       "(10, 20, 30, 40, 50, 60, 70, 80, 90, 100)"
      ]
     },
     "execution_count": 27,
     "metadata": {},
     "output_type": "execute_result"
    }
   ],
   "source": [
    "l = (10,20,30,40,50,60,70,80,90,100)\n",
    "l"
   ]
  },
  {
   "cell_type": "code",
   "execution_count": 29,
   "id": "88d9ee74",
   "metadata": {},
   "outputs": [
    {
     "name": "stdout",
     "output_type": "stream",
     "text": [
      "10\n",
      "80\n",
      "30\n",
      "100\n",
      "10\n"
     ]
    },
    {
     "data": {
      "text/plain": [
       "(50, 60, 70)"
      ]
     },
     "execution_count": 29,
     "metadata": {},
     "output_type": "execute_result"
    }
   ],
   "source": [
    "print(l[0])\n",
    "print(l[7])\n",
    "print(l[2])\n",
    "print(l[-1])\n",
    "print(l[-10])\n",
    "\n",
    "l[4:7]\n",
    "\n",
    "#l[1] = \"Changed\"\n",
    "#print(l)"
   ]
  },
  {
   "cell_type": "code",
   "execution_count": 33,
   "id": "39b95e86",
   "metadata": {},
   "outputs": [
    {
     "name": "stdout",
     "output_type": "stream",
     "text": [
      "[10, 20, 30, 40, 50, 60]\n",
      "True\n",
      "False\n"
     ]
    }
   ],
   "source": [
    "l = [10,20,30,40,50,60]\n",
    "print(l)\n",
    "print(40 in l)\n",
    "print(220 in l)"
   ]
  },
  {
   "cell_type": "code",
   "execution_count": 37,
   "id": "8f022b83",
   "metadata": {},
   "outputs": [
    {
     "name": "stdout",
     "output_type": "stream",
     "text": [
      "The value is: 10 The value is: 20 The value is: 30 The value is: 40 The value is: 50 The value is: 60 "
     ]
    }
   ],
   "source": [
    "for i in l:\n",
    "    print(\"The value is:\",i, end = \" \")"
   ]
  },
  {
   "cell_type": "code",
   "execution_count": 42,
   "id": "e3a99c3c",
   "metadata": {},
   "outputs": [
    {
     "name": "stdout",
     "output_type": "stream",
     "text": [
      "0 Is an Even Number 1 Is an Odd Number\n",
      "2 Is an Even Number 3 Is an Odd Number\n",
      "4 Is an Even Number 5 Is an Odd Number\n",
      "6 Is an Even Number 7 Is an Odd Number\n",
      "8 Is an Even Number 9 Is an Odd Number\n",
      "10 Is an Even Number 11 Is an Odd Number\n",
      "12 Is an Even Number 13 Is an Odd Number\n",
      "14 Is an Even Number 15 Is an Odd Number\n",
      "16 Is an Even Number 17 Is an Odd Number\n",
      "18 Is an Even Number 19 Is an Odd Number\n",
      "20 Is an Even Number 21 Is an Odd Number\n",
      "22 Is an Even Number 23 Is an Odd Number\n",
      "24 Is an Even Number 25 Is an Odd Number\n",
      "26 Is an Even Number 27 Is an Odd Number\n",
      "28 Is an Even Number 29 Is an Odd Number\n",
      "30 Is an Even Number 31 Is an Odd Number\n",
      "32 Is an Even Number 33 Is an Odd Number\n",
      "34 Is an Even Number 35 Is an Odd Number\n",
      "36 Is an Even Number 37 Is an Odd Number\n",
      "38 Is an Even Number 39 Is an Odd Number\n",
      "40 Is an Even Number 41 Is an Odd Number\n",
      "42 Is an Even Number 43 Is an Odd Number\n",
      "44 Is an Even Number 45 Is an Odd Number\n",
      "46 Is an Even Number 47 Is an Odd Number\n",
      "48 Is an Even Number 49 Is an Odd Number\n"
     ]
    }
   ],
   "source": [
    "for i in range(50):\n",
    "    if i%2==0:\n",
    "        print(i,\"Is an Even Number\", end = \" \")\n",
    "    else:\n",
    "        print(i,\"Is an Odd Number\", end = \"\\n\")"
   ]
  },
  {
   "cell_type": "code",
   "execution_count": 44,
   "id": "3de97cfa",
   "metadata": {},
   "outputs": [
    {
     "name": "stdout",
     "output_type": "stream",
     "text": [
      "0 2 4 6 8 "
     ]
    }
   ],
   "source": [
    "for i in range(0,10,2):\n",
    "    print(i,end = \" \")"
   ]
  },
  {
   "cell_type": "code",
   "execution_count": 46,
   "id": "158f9bf0",
   "metadata": {},
   "outputs": [
    {
     "name": "stdout",
     "output_type": "stream",
     "text": [
      "[10, 20, 30, 40, 50, 60] 10\n",
      "[10, 20, 30, 40, 50, 60] 20\n",
      "[10, 20, 30, 40, 50, 60] 30\n",
      "[10, 20, 30, 40, 50, 60] 40\n",
      "[10, 20, 30, 40, 50, 60] 50\n",
      "[10, 20, 30, 40, 50, 60] 60\n"
     ]
    }
   ],
   "source": [
    "for i in l:\n",
    "    print(l,i)"
   ]
  },
  {
   "cell_type": "code",
   "execution_count": 47,
   "id": "484a3aa5",
   "metadata": {},
   "outputs": [],
   "source": [
    "import math as m"
   ]
  },
  {
   "cell_type": "code",
   "execution_count": 48,
   "id": "f2ba891e",
   "metadata": {},
   "outputs": [
    {
     "data": {
      "text/plain": [
       "0.8509035245341184"
      ]
     },
     "execution_count": 48,
     "metadata": {},
     "output_type": "execute_result"
    }
   ],
   "source": [
    "m.sin(45)"
   ]
  },
  {
   "cell_type": "code",
   "execution_count": 49,
   "id": "e9ad2d2c",
   "metadata": {},
   "outputs": [
    {
     "data": {
      "text/plain": [
       "-0.8485702747846052"
      ]
     },
     "execution_count": 49,
     "metadata": {},
     "output_type": "execute_result"
    }
   ],
   "source": [
    "m.cos(34)"
   ]
  },
  {
   "cell_type": "code",
   "execution_count": 51,
   "id": "759efbe9",
   "metadata": {},
   "outputs": [
    {
     "data": {
      "text/plain": [
       "120"
      ]
     },
     "execution_count": 51,
     "metadata": {},
     "output_type": "execute_result"
    }
   ],
   "source": [
    "m.factorial(5)"
   ]
  },
  {
   "cell_type": "code",
   "execution_count": 54,
   "id": "db0a6ac7",
   "metadata": {},
   "outputs": [
    {
     "name": "stdout",
     "output_type": "stream",
     "text": [
      "Hello!\n"
     ]
    }
   ],
   "source": [
    "def greet():\n",
    "    print(\"Hello!\")\n",
    "    \n",
    "greet()"
   ]
  },
  {
   "cell_type": "code",
   "execution_count": 56,
   "id": "1cb50fe4",
   "metadata": {},
   "outputs": [
    {
     "name": "stdout",
     "output_type": "stream",
     "text": [
      "120\n"
     ]
    }
   ],
   "source": [
    "def addn(a,b):\n",
    "    c=a+b\n",
    "    print(c)\n",
    "addn(100,20)"
   ]
  },
  {
   "cell_type": "code",
   "execution_count": 58,
   "id": "05235c37",
   "metadata": {},
   "outputs": [
    {
     "data": {
      "text/plain": [
       "120"
      ]
     },
     "execution_count": 58,
     "metadata": {},
     "output_type": "execute_result"
    }
   ],
   "source": [
    "def addn(a,b):\n",
    "    c=a+b\n",
    "    return c\n",
    "res = addn(100,20)\n",
    "res"
   ]
  },
  {
   "cell_type": "code",
   "execution_count": null,
   "id": "ba9d4c9e",
   "metadata": {},
   "outputs": [],
   "source": []
  }
 ],
 "metadata": {
  "kernelspec": {
   "display_name": "Python 3",
   "language": "python",
   "name": "python3"
  },
  "language_info": {
   "codemirror_mode": {
    "name": "ipython",
    "version": 3
   },
   "file_extension": ".py",
   "mimetype": "text/x-python",
   "name": "python",
   "nbconvert_exporter": "python",
   "pygments_lexer": "ipython3",
   "version": "3.8.8"
  }
 },
 "nbformat": 4,
 "nbformat_minor": 5
}
