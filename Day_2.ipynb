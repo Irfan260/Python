{
 "cells": [
  {
   "cell_type": "markdown",
   "id": "5b86dba3",
   "metadata": {},
   "source": [
    "# LOOPS\n",
    "\n",
    "> For Loop\n",
    "\n",
    "> While Loop"
   ]
  },
  {
   "cell_type": "raw",
   "id": "7592413e",
   "metadata": {},
   "source": [
    "#for Loop Syntax\n",
    "\n",
    "for var in iterable:\n",
    "    do this\n",
    "    do this"
   ]
  },
  {
   "cell_type": "raw",
   "id": "c47062db",
   "metadata": {},
   "source": [
    "# Membership Operator in for loop is \"in\""
   ]
  },
  {
   "cell_type": "code",
   "execution_count": 1,
   "id": "2eed5a20",
   "metadata": {},
   "outputs": [
    {
     "name": "stdout",
     "output_type": "stream",
     "text": [
      "True\n",
      "False\n",
      "False\n"
     ]
    }
   ],
   "source": [
    "l = [10,20,30,40,50]\n",
    "print(40 in l)\n",
    "print(220 in l)\n",
    "print(30 not in l) "
   ]
  },
  {
   "cell_type": "raw",
   "id": "a6be1619",
   "metadata": {},
   "source": [
    "# For loop Example:"
   ]
  },
  {
   "cell_type": "code",
   "execution_count": 4,
   "id": "1d4e4e01",
   "metadata": {},
   "outputs": [
    {
     "name": "stdout",
     "output_type": "stream",
     "text": [
      "10\n",
      "20\n",
      "30\n",
      "40\n",
      "50\n"
     ]
    }
   ],
   "source": [
    "l = [10,20,30,40,50]\n",
    "\n",
    "for i in l:\n",
    "    print()"
   ]
  },
  {
   "cell_type": "code",
   "execution_count": 5,
   "id": "ea859fbb",
   "metadata": {},
   "outputs": [
    {
     "name": "stdout",
     "output_type": "stream",
     "text": [
      "10 20 30 40 50 60 70 80 90 100 "
     ]
    }
   ],
   "source": [
    "l = [10,20,30,40,50,60,70,80,90,100]\n",
    "\n",
    "for i in l:\n",
    "    print(i,end = \" \") # using end attribute you can change the output accordingly. \n",
    "                       # Either you can give spaces, \"\\n\": new line, \"\\t\": tab."
   ]
  },
  {
   "cell_type": "code",
   "execution_count": 6,
   "id": "7dae5d94",
   "metadata": {},
   "outputs": [
    {
     "name": "stdout",
     "output_type": "stream",
     "text": [
      "10\t20\t30\t40\t50\t60\t70\t80\t90\t100\t"
     ]
    }
   ],
   "source": [
    "l = [10,20,30,40,50,60,70,80,90,100]\n",
    "\n",
    "for i in l:\n",
    "    print(i,end = \"\\t\")"
   ]
  },
  {
   "cell_type": "code",
   "execution_count": 7,
   "id": "9b76941e",
   "metadata": {},
   "outputs": [
    {
     "name": "stdout",
     "output_type": "stream",
     "text": [
      "10\n",
      "20\n",
      "30\n",
      "40\n",
      "50\n",
      "60\n",
      "70\n",
      "80\n",
      "90\n",
      "100\n"
     ]
    }
   ],
   "source": [
    "l = [10,20,30,40,50,60,70,80,90,100]\n",
    "\n",
    "for i in l:\n",
    "    print(i,end = \"\\n\")"
   ]
  },
  {
   "cell_type": "raw",
   "id": "c64b02eb",
   "metadata": {},
   "source": [
    "# range() in For Loop\n",
    "\n",
    "Range function helps to generate numbers within the specific range.\n",
    "\n",
    "Also, it can only be used with for loop."
   ]
  },
  {
   "cell_type": "code",
   "execution_count": 9,
   "id": "99d101b1",
   "metadata": {},
   "outputs": [
    {
     "data": {
      "text/plain": [
       "range(0, 5)"
      ]
     },
     "execution_count": 9,
     "metadata": {},
     "output_type": "execute_result"
    }
   ],
   "source": [
    "range(5)  # We do not get the desired output if we use range alone."
   ]
  },
  {
   "cell_type": "code",
   "execution_count": 11,
   "id": "cbe5181e",
   "metadata": {},
   "outputs": [
    {
     "name": "stdout",
     "output_type": "stream",
     "text": [
      "0 1 2 3 4 "
     ]
    }
   ],
   "source": [
    "for x in range(5):\n",
    "    print(x, end = \" \")  # We get the result as range() is used along with for loop."
   ]
  },
  {
   "cell_type": "code",
   "execution_count": 13,
   "id": "32949567",
   "metadata": {},
   "outputs": [
    {
     "name": "stdout",
     "output_type": "stream",
     "text": [
      "0 is EVEN\n",
      "1 is ODD\n",
      "2 is EVEN\n",
      "3 is ODD\n",
      "4 is EVEN\n",
      "5 is ODD\n",
      "6 is EVEN\n",
      "7 is ODD\n",
      "8 is EVEN\n",
      "9 is ODD\n",
      "10 is EVEN\n",
      "11 is ODD\n",
      "12 is EVEN\n",
      "13 is ODD\n",
      "14 is EVEN\n",
      "15 is ODD\n",
      "16 is EVEN\n",
      "17 is ODD\n",
      "18 is EVEN\n",
      "19 is ODD\n",
      "20 is EVEN\n",
      "21 is ODD\n",
      "22 is EVEN\n",
      "23 is ODD\n",
      "24 is EVEN\n",
      "25 is ODD\n",
      "26 is EVEN\n",
      "27 is ODD\n",
      "28 is EVEN\n",
      "29 is ODD\n",
      "30 is EVEN\n",
      "31 is ODD\n",
      "32 is EVEN\n",
      "33 is ODD\n",
      "34 is EVEN\n",
      "35 is ODD\n",
      "36 is EVEN\n",
      "37 is ODD\n",
      "38 is EVEN\n",
      "39 is ODD\n",
      "40 is EVEN\n",
      "41 is ODD\n",
      "42 is EVEN\n",
      "43 is ODD\n",
      "44 is EVEN\n",
      "45 is ODD\n",
      "46 is EVEN\n",
      "47 is ODD\n",
      "48 is EVEN\n",
      "49 is ODD\n"
     ]
    }
   ],
   "source": [
    "for v in range(50):\n",
    "    if v%2 == 0:\n",
    "        print(v,\"is EVEN\")\n",
    "    else:\n",
    "        print(v,\"is ODD\")"
   ]
  },
  {
   "cell_type": "code",
   "execution_count": 15,
   "id": "6a052c30",
   "metadata": {},
   "outputs": [
    {
     "name": "stdout",
     "output_type": "stream",
     "text": [
      "0 1 2 3 4 "
     ]
    }
   ],
   "source": [
    "for i in range(0,5): #It would do the same thing...Starting Index is 0 and Ending Index will be EI-1 (5-1)\n",
    "    print(i, end = \" \")"
   ]
  },
  {
   "cell_type": "raw",
   "id": "51bf2ed0",
   "metadata": {},
   "source": [
    "# STEP SIZE parameter in range(): It is a third parameter within the range function. By default the value is 1. It basically skips the value in the output by the number mentioned in the parameter."
   ]
  },
  {
   "cell_type": "code",
   "execution_count": 1,
   "id": "09ed2a0e",
   "metadata": {},
   "outputs": [
    {
     "name": "stdout",
     "output_type": "stream",
     "text": [
      "0 1 2 3 4 5 6 7 8 9 "
     ]
    }
   ],
   "source": [
    "for i in range(0,10,1):\n",
    "    print(i, end = \" \")"
   ]
  },
  {
   "cell_type": "code",
   "execution_count": 17,
   "id": "6c54cfa2",
   "metadata": {},
   "outputs": [
    {
     "name": "stdout",
     "output_type": "stream",
     "text": [
      "0 2 4 6 8 "
     ]
    }
   ],
   "source": [
    "for i in range(0,10,2):\n",
    "    print(i, end = \" \")"
   ]
  },
  {
   "cell_type": "code",
   "execution_count": 2,
   "id": "7ad689e2",
   "metadata": {},
   "outputs": [
    {
     "name": "stdout",
     "output_type": "stream",
     "text": [
      "1 4 7 "
     ]
    }
   ],
   "source": [
    "for i in range(1,10,3):\n",
    "    print(i, end = \" \")"
   ]
  },
  {
   "cell_type": "raw",
   "id": "a3d3c28e",
   "metadata": {},
   "source": [
    "# while Loop Syntax:\n",
    "\n",
    "initialisation\n",
    "while condition:\n",
    "    do this\n",
    "    do this\n",
    "    increment / decrement"
   ]
  },
  {
   "cell_type": "raw",
   "id": "c567e4d6",
   "metadata": {},
   "source": [
    "# while loop example: Print natural number from 1 to 5"
   ]
  },
  {
   "cell_type": "code",
   "execution_count": 1,
   "id": "bffd1f21",
   "metadata": {},
   "outputs": [
    {
     "name": "stdout",
     "output_type": "stream",
     "text": [
      "1 2 3 4 5 "
     ]
    }
   ],
   "source": [
    "i = 1\n",
    "while i <= 5:\n",
    "    print(i, end = \" \")\n",
    "    i = i+1"
   ]
  },
  {
   "cell_type": "markdown",
   "id": "82529db3",
   "metadata": {},
   "source": [
    "# FUNCTIONS\n",
    "\n",
    "> Pre-Built Functions: These are those fiunctions whose meanings are known to Python Interpreter.\n",
    "\n",
    "> User-Defined Functions: These functions are defined and called by us."
   ]
  },
  {
   "cell_type": "raw",
   "id": "0ad62db4",
   "metadata": {},
   "source": [
    "#Pre-Built Functions: Some of the examples are given below."
   ]
  },
  {
   "cell_type": "code",
   "execution_count": 11,
   "id": "6048a13d",
   "metadata": {},
   "outputs": [
    {
     "ename": "NameError",
     "evalue": "name 'sin' is not defined",
     "output_type": "error",
     "traceback": [
      "\u001b[1;31m---------------------------------------------------------------------------\u001b[0m",
      "\u001b[1;31mNameError\u001b[0m                                 Traceback (most recent call last)",
      "\u001b[1;32m<ipython-input-11-b67c585cc4cc>\u001b[0m in \u001b[0;36m<module>\u001b[1;34m\u001b[0m\n\u001b[1;32m----> 1\u001b[1;33m \u001b[0mprint\u001b[0m\u001b[1;33m(\u001b[0m\u001b[0msin\u001b[0m\u001b[1;33m(\u001b[0m\u001b[1;36m45\u001b[0m\u001b[1;33m)\u001b[0m\u001b[1;33m)\u001b[0m \u001b[1;31m#This gives error as we need to first import math and then use these type of functions.\u001b[0m\u001b[1;33m\u001b[0m\u001b[1;33m\u001b[0m\u001b[0m\n\u001b[0m",
      "\u001b[1;31mNameError\u001b[0m: name 'sin' is not defined"
     ]
    }
   ],
   "source": [
    "print(sin(45)) #This gives error as we need to first import math module and then use these type of functions."
   ]
  },
  {
   "cell_type": "code",
   "execution_count": 1,
   "id": "99a03b1f",
   "metadata": {},
   "outputs": [],
   "source": [
    "import math as m"
   ]
  },
  {
   "cell_type": "code",
   "execution_count": 9,
   "id": "50cbaa11",
   "metadata": {},
   "outputs": [
    {
     "name": "stdout",
     "output_type": "stream",
     "text": [
      "0.8509035245341184\n",
      "0.5253219888177297\n",
      "3.8066624897703196\n",
      "1.6197751905438615\n",
      "3.4934271057485095e+19\n",
      "120\n",
      "243.0\n"
     ]
    }
   ],
   "source": [
    "print(m.sin(45))\n",
    "print(m.cos(45))\n",
    "print(m.log(45))\n",
    "print(m.tan(45))\n",
    "print(m.exp(45))\n",
    "print(m.factorial(5))\n",
    "print(m.pow(3,5))\n"
   ]
  },
  {
   "cell_type": "code",
   "execution_count": 13,
   "id": "0ad106ef",
   "metadata": {},
   "outputs": [
    {
     "name": "stdout",
     "output_type": "stream",
     "text": [
      "Help on built-in module math:\n",
      "\n",
      "NAME\n",
      "    math\n",
      "\n",
      "DESCRIPTION\n",
      "    This module provides access to the mathematical functions\n",
      "    defined by the C standard.\n",
      "\n",
      "FUNCTIONS\n",
      "    acos(x, /)\n",
      "        Return the arc cosine (measured in radians) of x.\n",
      "    \n",
      "    acosh(x, /)\n",
      "        Return the inverse hyperbolic cosine of x.\n",
      "    \n",
      "    asin(x, /)\n",
      "        Return the arc sine (measured in radians) of x.\n",
      "    \n",
      "    asinh(x, /)\n",
      "        Return the inverse hyperbolic sine of x.\n",
      "    \n",
      "    atan(x, /)\n",
      "        Return the arc tangent (measured in radians) of x.\n",
      "    \n",
      "    atan2(y, x, /)\n",
      "        Return the arc tangent (measured in radians) of y/x.\n",
      "        \n",
      "        Unlike atan(y/x), the signs of both x and y are considered.\n",
      "    \n",
      "    atanh(x, /)\n",
      "        Return the inverse hyperbolic tangent of x.\n",
      "    \n",
      "    ceil(x, /)\n",
      "        Return the ceiling of x as an Integral.\n",
      "        \n",
      "        This is the smallest integer >= x.\n",
      "    \n",
      "    comb(n, k, /)\n",
      "        Number of ways to choose k items from n items without repetition and without order.\n",
      "        \n",
      "        Evaluates to n! / (k! * (n - k)!) when k <= n and evaluates\n",
      "        to zero when k > n.\n",
      "        \n",
      "        Also called the binomial coefficient because it is equivalent\n",
      "        to the coefficient of k-th term in polynomial expansion of the\n",
      "        expression (1 + x)**n.\n",
      "        \n",
      "        Raises TypeError if either of the arguments are not integers.\n",
      "        Raises ValueError if either of the arguments are negative.\n",
      "    \n",
      "    copysign(x, y, /)\n",
      "        Return a float with the magnitude (absolute value) of x but the sign of y.\n",
      "        \n",
      "        On platforms that support signed zeros, copysign(1.0, -0.0)\n",
      "        returns -1.0.\n",
      "    \n",
      "    cos(x, /)\n",
      "        Return the cosine of x (measured in radians).\n",
      "    \n",
      "    cosh(x, /)\n",
      "        Return the hyperbolic cosine of x.\n",
      "    \n",
      "    degrees(x, /)\n",
      "        Convert angle x from radians to degrees.\n",
      "    \n",
      "    dist(p, q, /)\n",
      "        Return the Euclidean distance between two points p and q.\n",
      "        \n",
      "        The points should be specified as sequences (or iterables) of\n",
      "        coordinates.  Both inputs must have the same dimension.\n",
      "        \n",
      "        Roughly equivalent to:\n",
      "            sqrt(sum((px - qx) ** 2.0 for px, qx in zip(p, q)))\n",
      "    \n",
      "    erf(x, /)\n",
      "        Error function at x.\n",
      "    \n",
      "    erfc(x, /)\n",
      "        Complementary error function at x.\n",
      "    \n",
      "    exp(x, /)\n",
      "        Return e raised to the power of x.\n",
      "    \n",
      "    expm1(x, /)\n",
      "        Return exp(x)-1.\n",
      "        \n",
      "        This function avoids the loss of precision involved in the direct evaluation of exp(x)-1 for small x.\n",
      "    \n",
      "    fabs(x, /)\n",
      "        Return the absolute value of the float x.\n",
      "    \n",
      "    factorial(x, /)\n",
      "        Find x!.\n",
      "        \n",
      "        Raise a ValueError if x is negative or non-integral.\n",
      "    \n",
      "    floor(x, /)\n",
      "        Return the floor of x as an Integral.\n",
      "        \n",
      "        This is the largest integer <= x.\n",
      "    \n",
      "    fmod(x, y, /)\n",
      "        Return fmod(x, y), according to platform C.\n",
      "        \n",
      "        x % y may differ.\n",
      "    \n",
      "    frexp(x, /)\n",
      "        Return the mantissa and exponent of x, as pair (m, e).\n",
      "        \n",
      "        m is a float and e is an int, such that x = m * 2.**e.\n",
      "        If x is 0, m and e are both 0.  Else 0.5 <= abs(m) < 1.0.\n",
      "    \n",
      "    fsum(seq, /)\n",
      "        Return an accurate floating point sum of values in the iterable seq.\n",
      "        \n",
      "        Assumes IEEE-754 floating point arithmetic.\n",
      "    \n",
      "    gamma(x, /)\n",
      "        Gamma function at x.\n",
      "    \n",
      "    gcd(x, y, /)\n",
      "        greatest common divisor of x and y\n",
      "    \n",
      "    hypot(...)\n",
      "        hypot(*coordinates) -> value\n",
      "        \n",
      "        Multidimensional Euclidean distance from the origin to a point.\n",
      "        \n",
      "        Roughly equivalent to:\n",
      "            sqrt(sum(x**2 for x in coordinates))\n",
      "        \n",
      "        For a two dimensional point (x, y), gives the hypotenuse\n",
      "        using the Pythagorean theorem:  sqrt(x*x + y*y).\n",
      "        \n",
      "        For example, the hypotenuse of a 3/4/5 right triangle is:\n",
      "        \n",
      "            >>> hypot(3.0, 4.0)\n",
      "            5.0\n",
      "    \n",
      "    isclose(a, b, *, rel_tol=1e-09, abs_tol=0.0)\n",
      "        Determine whether two floating point numbers are close in value.\n",
      "        \n",
      "          rel_tol\n",
      "            maximum difference for being considered \"close\", relative to the\n",
      "            magnitude of the input values\n",
      "          abs_tol\n",
      "            maximum difference for being considered \"close\", regardless of the\n",
      "            magnitude of the input values\n",
      "        \n",
      "        Return True if a is close in value to b, and False otherwise.\n",
      "        \n",
      "        For the values to be considered close, the difference between them\n",
      "        must be smaller than at least one of the tolerances.\n",
      "        \n",
      "        -inf, inf and NaN behave similarly to the IEEE 754 Standard.  That\n",
      "        is, NaN is not close to anything, even itself.  inf and -inf are\n",
      "        only close to themselves.\n",
      "    \n",
      "    isfinite(x, /)\n",
      "        Return True if x is neither an infinity nor a NaN, and False otherwise.\n",
      "    \n",
      "    isinf(x, /)\n",
      "        Return True if x is a positive or negative infinity, and False otherwise.\n",
      "    \n",
      "    isnan(x, /)\n",
      "        Return True if x is a NaN (not a number), and False otherwise.\n",
      "    \n",
      "    isqrt(n, /)\n",
      "        Return the integer part of the square root of the input.\n",
      "    \n",
      "    ldexp(x, i, /)\n",
      "        Return x * (2**i).\n",
      "        \n",
      "        This is essentially the inverse of frexp().\n",
      "    \n",
      "    lgamma(x, /)\n",
      "        Natural logarithm of absolute value of Gamma function at x.\n",
      "    \n",
      "    log(...)\n",
      "        log(x, [base=math.e])\n",
      "        Return the logarithm of x to the given base.\n",
      "        \n",
      "        If the base not specified, returns the natural logarithm (base e) of x.\n",
      "    \n",
      "    log10(x, /)\n",
      "        Return the base 10 logarithm of x.\n",
      "    \n",
      "    log1p(x, /)\n",
      "        Return the natural logarithm of 1+x (base e).\n",
      "        \n",
      "        The result is computed in a way which is accurate for x near zero.\n",
      "    \n",
      "    log2(x, /)\n",
      "        Return the base 2 logarithm of x.\n",
      "    \n",
      "    modf(x, /)\n",
      "        Return the fractional and integer parts of x.\n",
      "        \n",
      "        Both results carry the sign of x and are floats.\n",
      "    \n",
      "    perm(n, k=None, /)\n",
      "        Number of ways to choose k items from n items without repetition and with order.\n",
      "        \n",
      "        Evaluates to n! / (n - k)! when k <= n and evaluates\n",
      "        to zero when k > n.\n",
      "        \n",
      "        If k is not specified or is None, then k defaults to n\n",
      "        and the function returns n!.\n",
      "        \n",
      "        Raises TypeError if either of the arguments are not integers.\n",
      "        Raises ValueError if either of the arguments are negative.\n",
      "    \n",
      "    pow(x, y, /)\n",
      "        Return x**y (x to the power of y).\n",
      "    \n",
      "    prod(iterable, /, *, start=1)\n",
      "        Calculate the product of all the elements in the input iterable.\n",
      "        \n",
      "        The default start value for the product is 1.\n",
      "        \n",
      "        When the iterable is empty, return the start value.  This function is\n",
      "        intended specifically for use with numeric values and may reject\n",
      "        non-numeric types.\n",
      "    \n",
      "    radians(x, /)\n",
      "        Convert angle x from degrees to radians.\n",
      "    \n",
      "    remainder(x, y, /)\n",
      "        Difference between x and the closest integer multiple of y.\n",
      "        \n",
      "        Return x - n*y where n*y is the closest integer multiple of y.\n",
      "        In the case where x is exactly halfway between two multiples of\n",
      "        y, the nearest even value of n is used. The result is always exact.\n",
      "    \n",
      "    sin(x, /)\n",
      "        Return the sine of x (measured in radians).\n",
      "    \n",
      "    sinh(x, /)\n",
      "        Return the hyperbolic sine of x.\n",
      "    \n",
      "    sqrt(x, /)\n",
      "        Return the square root of x.\n",
      "    \n",
      "    tan(x, /)\n",
      "        Return the tangent of x (measured in radians).\n",
      "    \n",
      "    tanh(x, /)\n",
      "        Return the hyperbolic tangent of x.\n",
      "    \n",
      "    trunc(x, /)\n",
      "        Truncates the Real x to the nearest Integral toward 0.\n",
      "        \n",
      "        Uses the __trunc__ magic method.\n",
      "\n",
      "DATA\n",
      "    e = 2.718281828459045\n",
      "    inf = inf\n",
      "    nan = nan\n",
      "    pi = 3.141592653589793\n",
      "    tau = 6.283185307179586\n",
      "\n",
      "FILE\n",
      "    (built-in)\n",
      "\n",
      "\n"
     ]
    }
   ],
   "source": [
    "help(m) # This helps you to know about all the functions available under math module. we have used \"m\" because we have imported\n",
    "        # math module as \"m\"."
   ]
  },
  {
   "cell_type": "raw",
   "id": "66756775",
   "metadata": {},
   "source": [
    "# User-Defined Functions:"
   ]
  },
  {
   "cell_type": "code",
   "execution_count": 14,
   "id": "ed348b17",
   "metadata": {},
   "outputs": [
    {
     "name": "stdout",
     "output_type": "stream",
     "text": [
      "I am Reporting on duty sir.\n",
      "Thank you for appointing me.\n"
     ]
    }
   ],
   "source": [
    "def greet(): #Define a function\n",
    "    print(\"I am Reporting on duty sir.\")\n",
    "    print(\"Thank you for appointing me.\")\n",
    "\n",
    "greet() #Call a function"
   ]
  },
  {
   "cell_type": "code",
   "execution_count": 18,
   "id": "4d824b47",
   "metadata": {},
   "outputs": [
    {
     "name": "stdout",
     "output_type": "stream",
     "text": [
      "30\n",
      "Mohd Irfan\n",
      "90.03\n"
     ]
    }
   ],
   "source": [
    "# Parameter Passing in a function:\n",
    "\n",
    "def addn(a,b):\n",
    "    c=a+b\n",
    "    print(c)\n",
    "\n",
    "addn(10,20)\n",
    "addn(\"Mohd\", \" Irfan\")\n",
    "addn(88.8,1.23)"
   ]
  },
  {
   "cell_type": "code",
   "execution_count": 21,
   "id": "192727a4",
   "metadata": {},
   "outputs": [
    {
     "name": "stdout",
     "output_type": "stream",
     "text": [
      "30\n",
      "306\n"
     ]
    }
   ],
   "source": [
    "# Return values in a function:\n",
    "\n",
    "def addn(a,b):\n",
    "    c=a+b\n",
    "    return c\n",
    "\n",
    "res = addn(10,20)\n",
    "print(res)\n",
    "res1 = addn(102,204)\n",
    "print(res1)"
   ]
  },
  {
   "cell_type": "markdown",
   "id": "f774ebb7",
   "metadata": {},
   "source": [
    "# LIST FUNCTIONS"
   ]
  },
  {
   "cell_type": "code",
   "execution_count": 37,
   "id": "ba781c12",
   "metadata": {},
   "outputs": [
    {
     "name": "stdout",
     "output_type": "stream",
     "text": [
      "[10, 20, 30, 40, 50]\n",
      "[10, 20, 30, 40, 50, 'Irfan']\n",
      "[10, 20, 30, 40, 50]\n",
      "[10, 20, 30, 40, 50, 60, 70, 80, 90, 100]\n",
      "[10, 20, 30, 40, 50, 60, 70, 80, 90, 100]\n",
      "[100, 90, 80, 70, 60, 50, 40, 30, 20, 10]\n",
      "[10, 20, 30, 40, 50, 60, 70, 80, 90, 100]\n",
      "1\n"
     ]
    }
   ],
   "source": [
    "l = [10,20,30,40,50]\n",
    "print(l)\n",
    "\n",
    "l.append(\"Irfan\") # It adds a particular value or a string to the list.\n",
    "print(l)\n",
    "\n",
    "l.remove(\"Irfan\") # It removes the mentioned value or string from the list.\n",
    "print(l)\n",
    "\n",
    "l.extend([60,70,80,90,100]) # This helps to add multiple values to the list.\n",
    "print(l)\n",
    "\n",
    "l.sort() # Ascending order.\n",
    "print(l)\n",
    "\n",
    "l.sort(reverse=True) # Descending order.\n",
    "print(l)\n",
    "\n",
    "l.reverse() # Just to reverse the list neither asc nor des.\n",
    "print(l)\n",
    "\n",
    "print(l.index(20)) # Helps us with the index value of each number in the list.\n"
   ]
  },
  {
   "cell_type": "markdown",
   "id": "9af1aa8a",
   "metadata": {},
   "source": [
    "# GENERIC FUNCTIONS"
   ]
  },
  {
   "cell_type": "code",
   "execution_count": 43,
   "id": "bec9dc3a",
   "metadata": {},
   "outputs": [
    {
     "name": "stdout",
     "output_type": "stream",
     "text": [
      "[11, 2, 3, 4, 5, 56]\n",
      "81\n",
      "6\n",
      "13.5\n",
      "56\n",
      "2\n"
     ]
    }
   ],
   "source": [
    "l = [11,2,3,4,5,56]\n",
    "print(l)\n",
    "\n",
    "print(sum(l))\n",
    "print(len(l))\n",
    "print(sum(l)/len(l))\n",
    "print(max(l))\n",
    "print(min(l))"
   ]
  },
  {
   "cell_type": "markdown",
   "id": "6b6140b7",
   "metadata": {},
   "source": [
    "# SETS"
   ]
  },
  {
   "cell_type": "markdown",
   "id": "0ea9c040",
   "metadata": {},
   "source": [
    "It is a collection of values which is unordered and unindexed.\n",
    "\n",
    "It is saved using {} braces.\n",
    "\n",
    "It stores only unique values."
   ]
  },
  {
   "cell_type": "code",
   "execution_count": 45,
   "id": "1114b143",
   "metadata": {},
   "outputs": [
    {
     "name": "stdout",
     "output_type": "stream",
     "text": [
      "{'apple', 'pineapple', 'cherries', 'mango', 'banana'}\n"
     ]
    }
   ],
   "source": [
    "s = {\"apple\",\"mango\",\"pineapple\",\"banana\",\"cherries\"}\n",
    "print(s)"
   ]
  },
  {
   "cell_type": "code",
   "execution_count": 46,
   "id": "eda9afb1",
   "metadata": {},
   "outputs": [
    {
     "name": "stdout",
     "output_type": "stream",
     "text": [
      "{'apple', 'pineapple', 'cherries', 'mango', 'banana'}\n"
     ]
    }
   ],
   "source": [
    "# It stores only unique values:\n",
    "\n",
    "s = {\"apple\",\"mango\",\"pineapple\",\"banana\",\"cherries\",\n",
    "     \"apple\",\"mango\",\"pineapple\",\"banana\",\"cherries\",\n",
    "     \"apple\",\"mango\",\"pineapple\",\"banana\",\"cherries\"}\n",
    "print(s)"
   ]
  },
  {
   "cell_type": "code",
   "execution_count": 48,
   "id": "ddb76d3f",
   "metadata": {},
   "outputs": [
    {
     "name": "stdout",
     "output_type": "stream",
     "text": [
      "{'microsoft', 'google'}\n",
      "{'mango', 'banana'}\n"
     ]
    }
   ],
   "source": [
    "# Sets with reference to the venn diagram:\n",
    "\n",
    "x = {\"google\",\"microsoft\",\"apple\"}\n",
    "y = {\"apple\",\"mango\",\"banana\"}\n",
    "z = x-y\n",
    "print(z)\n",
    "\n",
    "x = {\"google\",\"microsoft\",\"apple\"}\n",
    "y = {\"apple\",\"mango\",\"banana\"}\n",
    "z = y-\n",
    "print(z)"
   ]
  },
  {
   "cell_type": "markdown",
   "id": "68795d5a",
   "metadata": {},
   "source": [
    "# DICTIONARY"
   ]
  },
  {
   "cell_type": "markdown",
   "id": "49b2bf81",
   "metadata": {},
   "source": [
    "They are saved in __{key:value}__ form.\n",
    "\n",
    "It is used to deal with unordered set of key-value pairs.\n",
    "\n",
    "The key-value pairs is called as item.\n",
    "\n",
    "The values in the dictionary are mutable.\n",
    "\n",
    "The keys in the dictionary are immutable."
   ]
  },
  {
   "cell_type": "code",
   "execution_count": 51,
   "id": "70129a70",
   "metadata": {},
   "outputs": [
    {
     "name": "stdout",
     "output_type": "stream",
     "text": [
      "{100: 'COMP', 23: 'EXTC', 671: 'CHEM'}\n",
      "COMP\n"
     ]
    },
    {
     "ename": "KeyError",
     "evalue": "12",
     "output_type": "error",
     "traceback": [
      "\u001b[1;31m---------------------------------------------------------------------------\u001b[0m",
      "\u001b[1;31mKeyError\u001b[0m                                  Traceback (most recent call last)",
      "\u001b[1;32m<ipython-input-51-60f2b978d3a3>\u001b[0m in \u001b[0;36m<module>\u001b[1;34m\u001b[0m\n\u001b[0;32m      4\u001b[0m \u001b[0mprint\u001b[0m\u001b[1;33m(\u001b[0m\u001b[0md\u001b[0m\u001b[1;33m[\u001b[0m\u001b[1;36m100\u001b[0m\u001b[1;33m]\u001b[0m\u001b[1;33m)\u001b[0m \u001b[1;31m# 100 is the key whose value is COMP.\u001b[0m\u001b[1;33m\u001b[0m\u001b[1;33m\u001b[0m\u001b[0m\n\u001b[0;32m      5\u001b[0m \u001b[1;33m\u001b[0m\u001b[0m\n\u001b[1;32m----> 6\u001b[1;33m \u001b[0mprint\u001b[0m\u001b[1;33m(\u001b[0m\u001b[0md\u001b[0m\u001b[1;33m[\u001b[0m\u001b[1;36m12\u001b[0m\u001b[1;33m]\u001b[0m\u001b[1;33m)\u001b[0m\u001b[1;33m\u001b[0m\u001b[1;33m\u001b[0m\u001b[0m\n\u001b[0m",
      "\u001b[1;31mKeyError\u001b[0m: 12"
     ]
    }
   ],
   "source": [
    "d = {100:\"COMP\", 23:\"EXTC\" , 671:\"CHEM\"}\n",
    "print (d)\n",
    "\n",
    "print(d[100]) # 100 is the key whose value is COMP.\n",
    "\n",
    "print(d[12]) # It gives error as key 12 is not present in the dictionary."
   ]
  },
  {
   "cell_type": "code",
   "execution_count": 62,
   "id": "eb43f50f",
   "metadata": {},
   "outputs": [
    {
     "name": "stdout",
     "output_type": "stream",
     "text": [
      "{1: 100, 1.211: 98, 'Darshan': 54, (6-9j): 'Rohan', 34: [1, 2, 3, 4, 5]}\n",
      "<class 'dict'>\n",
      "54\n",
      "[1, 2, 3, 4, 5]\n"
     ]
    }
   ],
   "source": [
    "d = {1:100, 1.211:98, \"Darshan\":54, 6-9j:\"Rohan\", 34:[1,2,3,4,5]}\n",
    "print(d) # a dictionary can contain combination of any keys and values except iterables (lists and tuples) in the keys.\n",
    "print(type(d))\n",
    "\n",
    "print(d['Darshan'])\n",
    "#print(d['darshan']) # this gives an error as dictionary is case sensitive.\n",
    "print(d[34])\n"
   ]
  },
  {
   "cell_type": "markdown",
   "id": "e00d5997",
   "metadata": {},
   "source": [
    "# ADVANCED PYHON FUNCTIONS\n",
    "\n",
    "> Map()\n",
    "\n",
    "> Filter()\n",
    "\n",
    "> Lambda()"
   ]
  },
  {
   "cell_type": "raw",
   "id": "1f145a58",
   "metadata": {},
   "source": [
    "# MAP(): \n",
    "\n",
    ">It applies the given function to all the iterables and returns a new list.\n",
    "\n",
    "SYNTAX: \n",
    "\n",
    "map(Function , Iterables)\n",
    "\n",
    "EXAMPLE: \n",
    "\n",
    "Below conatins the comparison using simple function to map() function."
   ]
  },
  {
   "cell_type": "code",
   "execution_count": 63,
   "id": "6bce5d57",
   "metadata": {},
   "outputs": [
    {
     "name": "stdout",
     "output_type": "stream",
     "text": [
      "25\n"
     ]
    }
   ],
   "source": [
    "# Using Simple Function with Returning Values:\n",
    "\n",
    "def sqr(a):\n",
    "    return a*a\n",
    "\n",
    "res = sqr(5)\n",
    "print(res)"
   ]
  },
  {
   "cell_type": "code",
   "execution_count": 65,
   "id": "3ce87b06",
   "metadata": {},
   "outputs": [
    {
     "name": "stdout",
     "output_type": "stream",
     "text": [
      "<map object at 0x000001DB45BA61C0>\n",
      "[1, 4, 9, 16]\n"
     ]
    }
   ],
   "source": [
    "# Using Map() Function with single Iterable:\n",
    "\n",
    "def sqr(a):\n",
    "    return a*a\n",
    "\n",
    "res = map(sqr , [1,2,3,4])\n",
    "print(res) # It would yield us an address where the result is saved. in order to get the exact result we need to typecast it.\n",
    "print(list(res))"
   ]
  },
  {
   "cell_type": "code",
   "execution_count": 67,
   "id": "92bbde38",
   "metadata": {},
   "outputs": [
    {
     "name": "stdout",
     "output_type": "stream",
     "text": [
      "<map object at 0x000001DB45C891C0>\n",
      "[5, 12, 21, 32]\n"
     ]
    }
   ],
   "source": [
    "# Using Map() Function with multiple Iterable:\n",
    "\n",
    "def multiplyy(a,b):\n",
    "    return a*b\n",
    "\n",
    "res = map(multiplyy , [1,2,3,4], [5,6,7,8])\n",
    "print(res) # It would yield us an address where the result is saved. in order to get the exact result we need to typecast it.\n",
    "print(list(res))"
   ]
  },
  {
   "cell_type": "raw",
   "id": "591071b8",
   "metadata": {},
   "source": [
    "# LAMBDA(): \n",
    "\n",
    ">They are the functions which do not have any name.\n",
    "\n",
    ">They are generally provided as input to other function\n",
    "\n",
    ">They are single line function.\n",
    "\n",
    ">They are one time use function.\n",
    "\n",
    "SYNTAX:\n",
    "\n",
    "lambda arguments : expression\n",
    "\n",
    "EXAMPLE: \n",
    "\n",
    "Below conatins the comparison using simple function to lambda() function."
   ]
  },
  {
   "cell_type": "code",
   "execution_count": 68,
   "id": "b2e9d8b2",
   "metadata": {},
   "outputs": [
    {
     "name": "stdout",
     "output_type": "stream",
     "text": [
      "25\n"
     ]
    }
   ],
   "source": [
    "# Using Simple Function with Returning Values:\n",
    "\n",
    "def sqr(a):\n",
    "    return a*a\n",
    "\n",
    "res = sqr(5)\n",
    "print(res)"
   ]
  },
  {
   "cell_type": "code",
   "execution_count": 71,
   "id": "78d651d9",
   "metadata": {},
   "outputs": [
    {
     "name": "stdout",
     "output_type": "stream",
     "text": [
      "25\n"
     ]
    }
   ],
   "source": [
    "# Using Lambda() Function with single argument:\n",
    "\n",
    "x = lambda a : a*a\n",
    "print(x(5))"
   ]
  },
  {
   "cell_type": "code",
   "execution_count": 73,
   "id": "e662bd49",
   "metadata": {},
   "outputs": [
    {
     "name": "stdout",
     "output_type": "stream",
     "text": [
      "19\n"
     ]
    }
   ],
   "source": [
    "# Linear equation with Lambda(): 5x+3y\n",
    "\n",
    "z = lambda x,y : 5*x + 3*y\n",
    "print(z(2,3))"
   ]
  },
  {
   "cell_type": "raw",
   "id": "bcad3d90",
   "metadata": {},
   "source": [
    "# Here Comes the actual use of map() and lambda().\n",
    "\n",
    "# Ideally lambda() is used only with map().\n",
    "\n",
    "map(Function , Iterables)\n",
    "\n",
    "lambda arguments : expression"
   ]
  },
  {
   "cell_type": "code",
   "execution_count": 76,
   "id": "3c29f3f0",
   "metadata": {},
   "outputs": [
    {
     "name": "stdout",
     "output_type": "stream",
     "text": [
      "[4, 5, 6, 7]\n"
     ]
    }
   ],
   "source": [
    "l = [1,2,3,4]\n",
    "x = map(lambda a : a+3 , l)\n",
    "print(list(x))"
   ]
  },
  {
   "cell_type": "code",
   "execution_count": 77,
   "id": "b8e78de8",
   "metadata": {},
   "outputs": [
    {
     "name": "stdout",
     "output_type": "stream",
     "text": [
      "[4, 5, 6, 7]\n"
     ]
    }
   ],
   "source": [
    "# Reducing the above code to a single line code:\n",
    "\n",
    "print(list(map(lambda a:a+3, [1,2,3,4])))"
   ]
  },
  {
   "cell_type": "code",
   "execution_count": 79,
   "id": "10a58d37",
   "metadata": {},
   "outputs": [
    {
     "name": "stdout",
     "output_type": "stream",
     "text": [
      "[6, 14, 21, 32, 45]\n"
     ]
    }
   ],
   "source": [
    "# Using multiple argument in lambda() under map()\n",
    "\n",
    "print(list(map(lambda a,b : a*b, [1,2,3,4,5], [6,7,7,8,9])))"
   ]
  },
  {
   "cell_type": "raw",
   "id": "33c7ad49",
   "metadata": {},
   "source": [
    "# FILTER():\n",
    "\n",
    ">It is used to filter thegiven iterables with the help of another function passed as an argument to test all the elements \n",
    "to be true or false.\n",
    "\n",
    "SYNTAX:\n",
    "    \n",
    "filter(function , iterables)"
   ]
  },
  {
   "cell_type": "code",
   "execution_count": 80,
   "id": "74cbcb8a",
   "metadata": {},
   "outputs": [
    {
     "data": {
      "text/plain": [
       "[3, 4, 5]"
      ]
     },
     "execution_count": 80,
     "metadata": {},
     "output_type": "execute_result"
    }
   ],
   "source": [
    "l = [1,2,3,4,5]\n",
    "\n",
    "list(filter(lambda s:s>=3, l))"
   ]
  },
  {
   "cell_type": "code",
   "execution_count": 82,
   "id": "0448e762",
   "metadata": {},
   "outputs": [
    {
     "data": {
      "text/plain": [
       "[3, 4, 5]"
      ]
     },
     "execution_count": 82,
     "metadata": {},
     "output_type": "execute_result"
    }
   ],
   "source": [
    "# Difference between map() and filter()\n",
    "\n",
    "#map()\n",
    "\n",
    "list(map(lambda s:s>=3, [1,2,3,4,5])) # It gives true and false for the mentioned condition.\n",
    "\n",
    "#Filter()\n",
    "\n",
    "list(filter(lambda s:s>=3, [1,2,3,4,5])) # It gives the desired result."
   ]
  },
  {
   "cell_type": "code",
   "execution_count": 83,
   "id": "028dafc2",
   "metadata": {},
   "outputs": [
    {
     "data": {
      "text/plain": [
       "[9, 16, 25]"
      ]
     },
     "execution_count": 83,
     "metadata": {},
     "output_type": "execute_result"
    }
   ],
   "source": [
    "# Filter() within Map() - The output should be first we require values gretaed than 3 using filter and \n",
    "                        # then square of the output using map\n",
    "\n",
    "list(map( lambda x : pow(x,2), filter(lambda x : x>=3, [1,2,3,4,5])))"
   ]
  },
  {
   "cell_type": "code",
   "execution_count": 87,
   "id": "7e471c6b",
   "metadata": {},
   "outputs": [
    {
     "data": {
      "text/plain": [
       "[4, 5, 6, 7]"
      ]
     },
     "execution_count": 87,
     "metadata": {},
     "output_type": "execute_result"
    }
   ],
   "source": [
    "# Map() within Filter() - The output should be first we require addition of list by 3 using map and \n",
    "                        # then filter out the values greater than 3 using filter.\n",
    "    \n",
    "list(filter(lambda a : a>=3, map(lambda a:a+3 , [1,2,3,4])))"
   ]
  }
 ],
 "metadata": {
  "kernelspec": {
   "display_name": "Python 3",
   "language": "python",
   "name": "python3"
  },
  "language_info": {
   "codemirror_mode": {
    "name": "ipython",
    "version": 3
   },
   "file_extension": ".py",
   "mimetype": "text/x-python",
   "name": "python",
   "nbconvert_exporter": "python",
   "pygments_lexer": "ipython3",
   "version": "3.8.8"
  }
 },
 "nbformat": 4,
 "nbformat_minor": 5
}
