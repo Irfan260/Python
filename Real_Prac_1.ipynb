{
 "cells": [
  {
   "cell_type": "code",
   "execution_count": 1,
   "id": "b558f5f8",
   "metadata": {},
   "outputs": [
    {
     "name": "stdout",
     "output_type": "stream",
     "text": [
      "My name is Mohd Irfan.\n"
     ]
    }
   ],
   "source": [
    "print(\"My name is Mohd Irfan.\")"
   ]
  },
  {
   "cell_type": "code",
   "execution_count": 2,
   "id": "783d6059",
   "metadata": {},
   "outputs": [
    {
     "name": "stdout",
     "output_type": "stream",
     "text": [
      "My name is Mohd Irfan.\n"
     ]
    }
   ],
   "source": [
    "print('My name is Mohd Irfan.')"
   ]
  },
  {
   "cell_type": "code",
   "execution_count": 3,
   "id": "c6238912",
   "metadata": {},
   "outputs": [],
   "source": [
    "a = 10\n",
    "b = 20\n",
    "c = a+b"
   ]
  },
  {
   "cell_type": "code",
   "execution_count": 4,
   "id": "17a095ff",
   "metadata": {},
   "outputs": [
    {
     "name": "stdout",
     "output_type": "stream",
     "text": [
      "30\n"
     ]
    }
   ],
   "source": [
    "a = 10\n",
    "b = 20\n",
    "c = a+b\n",
    "print(c)"
   ]
  },
  {
   "cell_type": "code",
   "execution_count": 5,
   "id": "61a6fff5",
   "metadata": {},
   "outputs": [
    {
     "name": "stdout",
     "output_type": "stream",
     "text": [
      "10\n"
     ]
    }
   ],
   "source": [
    "print(a)"
   ]
  },
  {
   "cell_type": "code",
   "execution_count": 7,
   "id": "f9ccd934",
   "metadata": {},
   "outputs": [
    {
     "name": "stdout",
     "output_type": "stream",
     "text": [
      "30\n",
      "Addition = 30\n",
      "Addition of a = 10 & b = 20 is c = 30\n"
     ]
    }
   ],
   "source": [
    "a = 10\n",
    "b = 20\n",
    "c = a+b\n",
    "print(c)\n",
    "print(\"Addition =\",c)\n",
    "print(\"Addition of a =\",a,\"& b =\",b, \"is c =\",c)"
   ]
  },
  {
   "cell_type": "code",
   "execution_count": 10,
   "id": "035d1163",
   "metadata": {},
   "outputs": [
    {
     "data": {
      "text/plain": [
       "complex"
      ]
     },
     "execution_count": 10,
     "metadata": {},
     "output_type": "execute_result"
    }
   ],
   "source": [
    "type(8+7j)"
   ]
  },
  {
   "cell_type": "code",
   "execution_count": 11,
   "id": "72c457dd",
   "metadata": {},
   "outputs": [
    {
     "data": {
      "text/plain": [
       "str"
      ]
     },
     "execution_count": 11,
     "metadata": {},
     "output_type": "execute_result"
    }
   ],
   "source": [
    "type(\"Skill\")"
   ]
  },
  {
   "cell_type": "code",
   "execution_count": 14,
   "id": "edf2babd",
   "metadata": {},
   "outputs": [
    {
     "data": {
      "text/plain": [
       "float"
      ]
     },
     "execution_count": 14,
     "metadata": {},
     "output_type": "execute_result"
    }
   ],
   "source": [
    "type(90.88088)\n"
   ]
  },
  {
   "cell_type": "code",
   "execution_count": 15,
   "id": "d6215f5e",
   "metadata": {},
   "outputs": [
    {
     "data": {
      "text/plain": [
       "int"
      ]
     },
     "execution_count": 15,
     "metadata": {},
     "output_type": "execute_result"
    }
   ],
   "source": [
    "type(100)"
   ]
  },
  {
   "cell_type": "code",
   "execution_count": 18,
   "id": "dcc04311",
   "metadata": {},
   "outputs": [
    {
     "name": "stdout",
     "output_type": "stream",
     "text": [
      "98\n",
      "<class 'int'>\n",
      "<class 'float'>\n"
     ]
    }
   ],
   "source": [
    "#Typecasting: It is the process of forcefully changing the datatype.\n",
    "\n",
    "i = 98\n",
    "print(i)\n",
    "print(type(i))\n",
    "f = float(i)\n",
    "print(type(f))"
   ]
  },
  {
   "cell_type": "code",
   "execution_count": 17,
   "id": "de94cd03",
   "metadata": {},
   "outputs": [
    {
     "name": "stdout",
     "output_type": "stream",
     "text": [
      "98.87878\n",
      "<class 'float'>\n",
      "<class 'int'>\n"
     ]
    }
   ],
   "source": [
    "i = 98.87878\n",
    "print(i)\n",
    "print(type(i))\n",
    "f = int(i)\n",
    "print(type(f))"
   ]
  },
  {
   "cell_type": "code",
   "execution_count": null,
   "id": "905b3c00",
   "metadata": {},
   "outputs": [],
   "source": [
    "a = int(input(Enter a number:))\n",
    "\n",
    "b = int(input(Enter a number:))\n",
    "c = a+b\n",
    "print(c)\n",
    "print(\"Addition of a =\",a,\"& b =\",b,\"is c =\",c)"
   ]
  },
  {
   "cell_type": "code",
   "execution_count": 20,
   "id": "eaa6de65",
   "metadata": {},
   "outputs": [
    {
     "name": "stdout",
     "output_type": "stream",
     "text": [
      "Enter a number:100\n",
      "Enter a number:200\n",
      "300\n",
      "Addition of a = 100 & b = 200 is c = 300\n"
     ]
    }
   ],
   "source": [
    "a = int(input(\"Enter a number:\"))\n",
    "b = int(input(\"Enter a number:\"))\n",
    "c = a+b\n",
    "print(c)\n",
    "print(\"Addition of a =\",a,\"& b =\",b,\"is c =\",c)"
   ]
  },
  {
   "cell_type": "code",
   "execution_count": 21,
   "id": "77dea685",
   "metadata": {},
   "outputs": [
    {
     "ename": "SyntaxError",
     "evalue": "invalid syntax (<ipython-input-21-6642f70aaacf>, line 1)",
     "output_type": "error",
     "traceback": [
      "\u001b[1;36m  File \u001b[1;32m\"<ipython-input-21-6642f70aaacf>\"\u001b[1;36m, line \u001b[1;32m1\u001b[0m\n\u001b[1;33m    a = int(input(Enter a number:))\u001b[0m\n\u001b[1;37m                        ^\u001b[0m\n\u001b[1;31mSyntaxError\u001b[0m\u001b[1;31m:\u001b[0m invalid syntax\n"
     ]
    }
   ],
   "source": [
    "a = int(input(Enter a number:))\n",
    "b = int(input(Enter a number:))\n",
    "c = a+b\n",
    "print(c)\n",
    "print(\"Addition of a =\",a,\"& b =\",b,\"is c =\",c)"
   ]
  },
  {
   "cell_type": "code",
   "execution_count": 22,
   "id": "4260712d",
   "metadata": {},
   "outputs": [
    {
     "name": "stdout",
     "output_type": "stream",
     "text": [
      "Enter a number:300\n",
      "Enter a number:300\n",
      "600\n",
      "Addition of a = 300 & b = 300 is c = 600\n"
     ]
    }
   ],
   "source": [
    "a = int(input(\"Enter a number:\"))\n",
    "b = int(input(\"Enter a number:\"))\n",
    "c = a+b\n",
    "print(c)\n",
    "print(\"Addition of a =\",a,\"& b =\",b,\"is c =\",c)"
   ]
  },
  {
   "cell_type": "code",
   "execution_count": 23,
   "id": "730609a0",
   "metadata": {},
   "outputs": [
    {
     "name": "stdout",
     "output_type": "stream",
     "text": [
      "Enter a number:20\n",
      "Enter a number:22\n",
      "42\n",
      "Addition of a = 20 & b = 22 is c = 42\n"
     ]
    }
   ],
   "source": [
    "a = int(input(\"Enter a number:\"))\n",
    "b = int(input(\"Enter a number:\"))\n",
    "c = a+b\n",
    "print(c)\n",
    "print(\"Addition of a =\",a,\"& b =\",b,\"is c =\",c)"
   ]
  },
  {
   "cell_type": "code",
   "execution_count": 24,
   "id": "ef9940d0",
   "metadata": {},
   "outputs": [],
   "source": [
    "#CONDITIONAL STATEMENTS"
   ]
  },
  {
   "cell_type": "code",
   "execution_count": 25,
   "id": "b1edc85b",
   "metadata": {},
   "outputs": [],
   "source": [
    "# Conditional"
   ]
  },
  {
   "cell_type": "markdown",
   "id": "3746ceba",
   "metadata": {},
   "source": [
    "# Conditional Statements"
   ]
  },
  {
   "cell_type": "code",
   "execution_count": 26,
   "id": "a87888d4",
   "metadata": {},
   "outputs": [
    {
     "name": "stdout",
     "output_type": "stream",
     "text": [
      "If operation Successful.\n",
      "Out of If.\n"
     ]
    }
   ],
   "source": [
    "x = 5\n",
    "if x > 3:\n",
    "    print('If operation Successful.')\n",
    "print('Out of If.')    \n",
    "\n"
   ]
  },
  {
   "cell_type": "code",
   "execution_count": 27,
   "id": "2db49a15",
   "metadata": {},
   "outputs": [
    {
     "name": "stdout",
     "output_type": "stream",
     "text": [
      "Out of If.\n"
     ]
    }
   ],
   "source": [
    "x = -5\n",
    "if x > 3:\n",
    "    print('If operation Successful.')\n",
    "print('Out of If.')"
   ]
  },
  {
   "cell_type": "code",
   "execution_count": 28,
   "id": "bb827b42",
   "metadata": {},
   "outputs": [
    {
     "name": "stdout",
     "output_type": "stream",
     "text": [
      "X is a positive number.\n"
     ]
    }
   ],
   "source": [
    "x = 5\n",
    "if x > 0:\n",
    "    print('X is a positive number.')\n",
    "else:\n",
    "    print(\"X is a negative number.\")"
   ]
  },
  {
   "cell_type": "code",
   "execution_count": 29,
   "id": "655dae49",
   "metadata": {},
   "outputs": [
    {
     "name": "stdout",
     "output_type": "stream",
     "text": [
      "X is a positive number.\n",
      "Out of If-else.\n"
     ]
    }
   ],
   "source": [
    "x = 5\n",
    "if x > 0:\n",
    "    print('X is a positive number.')\n",
    "else:\n",
    "    print(\"X is a negative number.\")\n",
    "print(\"Out of If-else.\")"
   ]
  },
  {
   "cell_type": "code",
   "execution_count": 31,
   "id": "19c2eb4b",
   "metadata": {},
   "outputs": [
    {
     "name": "stdout",
     "output_type": "stream",
     "text": [
      "0 is 0 .i.e. Neither negative nor positive.\n",
      "Out of If-else.\n"
     ]
    }
   ],
   "source": [
    "x = 0\n",
    "\n",
    "if x > 0:\n",
    "    print('X is a positive number.')\n",
    "\n",
    "elif x < 0:\n",
    "    print('X is a Negative number.')\n",
    "\n",
    "else:\n",
    "    print(x, \"is 0 .i.e. Neither negative nor positive.\")\n",
    "    \n",
    "print(\"Out of If-else.\")"
   ]
  },
  {
   "cell_type": "markdown",
   "id": "ff53fc0b",
   "metadata": {},
   "source": [
    "# LIST"
   ]
  },
  {
   "cell_type": "code",
   "execution_count": 33,
   "id": "2a14f627",
   "metadata": {},
   "outputs": [
    {
     "name": "stdout",
     "output_type": "stream",
     "text": [
      "[10, 20, -22, 33.99098, -1.898, 'Irfan', 'skillenable', (8+7j)]\n",
      "<class 'list'>\n"
     ]
    }
   ],
   "source": [
    "l = [10, 20, -22, 33.99098, -1.898, \"Irfan\",\"skillenable\",8+7j]\n",
    "print(l)\n",
    "print(type(l))"
   ]
  },
  {
   "cell_type": "code",
   "execution_count": 39,
   "id": "de7dec38",
   "metadata": {},
   "outputs": [
    {
     "name": "stdout",
     "output_type": "stream",
     "text": [
      "10\n",
      "40\n",
      "50\n",
      "40\n",
      "[20, 30]\n",
      "[20, 30, 40]\n"
     ]
    }
   ],
   "source": [
    "l = [10,20,30,40,50]\n",
    "\n",
    "#Indexing\n",
    "\n",
    "print(l[0])\n",
    "print(l[3])\n",
    "print(l[-1])\n",
    "print(l[-2])\n",
    "print()\n",
    "\n",
    "#Slicing\n",
    "\n",
    "print(l[1:3]) # SI = 1, EI = 3-1 =2, Hence the output 20,30\n",
    "print(l[1:4])"
   ]
  },
  {
   "cell_type": "markdown",
   "id": "c005727c",
   "metadata": {},
   "source": [
    "# TUPLES"
   ]
  },
  {
   "cell_type": "code",
   "execution_count": 42,
   "id": "5601441c",
   "metadata": {},
   "outputs": [
    {
     "name": "stdout",
     "output_type": "stream",
     "text": [
      "(10, 20, 30, 40, 50)\n",
      "<class 'tuple'>\n",
      "10\n",
      "40\n",
      "50\n",
      "40\n",
      "(20, 30)\n",
      "(20, 30, 40)\n"
     ]
    }
   ],
   "source": [
    "l = (10,20,30,40,50)\n",
    "print(l)\n",
    "print(type(l))\n",
    "\n",
    "#Indexing\n",
    "\n",
    "print(l[0])\n",
    "print(l[3])\n",
    "print(l[-1])\n",
    "print(l[-2])\n",
    "\n",
    "#Slicing\n",
    "\n",
    "print(l[1:3]) # SI = 1, EI = 3-1 =2, Hence the output 20,30\n",
    "print(l[1:4])"
   ]
  },
  {
   "cell_type": "code",
   "execution_count": null,
   "id": "94335e38",
   "metadata": {},
   "outputs": [],
   "source": []
  }
 ],
 "metadata": {
  "kernelspec": {
   "display_name": "Python 3",
   "language": "python",
   "name": "python3"
  },
  "language_info": {
   "codemirror_mode": {
    "name": "ipython",
    "version": 3
   },
   "file_extension": ".py",
   "mimetype": "text/x-python",
   "name": "python",
   "nbconvert_exporter": "python",
   "pygments_lexer": "ipython3",
   "version": "3.8.8"
  }
 },
 "nbformat": 4,
 "nbformat_minor": 5
}
